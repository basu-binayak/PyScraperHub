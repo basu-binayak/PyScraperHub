{
 "cells": [
  {
   "cell_type": "markdown",
   "metadata": {},
   "source": [
    "# Reading text files"
   ]
  },
  {
   "cell_type": "code",
   "execution_count": 1,
   "metadata": {},
   "outputs": [],
   "source": [
    "import requests \n",
    "from bs4 import BeautifulSoup"
   ]
  },
  {
   "cell_type": "code",
   "execution_count": 2,
   "metadata": {},
   "outputs": [
    {
     "data": {
      "text/plain": [
       "{'Basic Information': {'Name': 'John Doe',\n",
       "  'Age': '35',\n",
       "  'Occupation': 'Software Developer',\n",
       "  'Skills': 'Python, JavaScript, SQL'},\n",
       " 'Projects': [{'Role': 'Lead Developer',\n",
       "   'Duration': '1 year',\n",
       "   'Description': '\"Developed a scalable e-commerce platform using Python and Django.\"'},\n",
       "  {'Role': 'Full Stack Developer',\n",
       "   'Duration': '8 months',\n",
       "   'Description': '\"Built a chat application using Node.js and React.\"'}],\n",
       " 'Metadata': {'ID': '12345', 'Type': 'Confidential'},\n",
       " 'Raw Data': '',\n",
       " 'Irregular Data': [{'- Name': 'Alice Johnson',\n",
       "   'Age': '29',\n",
       "   'Occupation': 'Data Scientist'},\n",
       "  {'- Name': 'Bob Smith', 'Age': '42', 'Occupation': 'Systems Analyst'}],\n",
       " 'Mixed Content': {'JSON-like': {'error': 'Invalid JSON-like structure'},\n",
       "  'Free Text': ['JSON-like:',\n",
       "   ']',\n",
       "   '}',\n",
       "   '',\n",
       "   'Free text: This is an example of a mixed-content section, where the text is interspersed with pseudo-structured data.',\n",
       "   '',\n",
       "   '--- End of File ---']}}"
      ]
     },
     "execution_count": 2,
     "metadata": {},
     "output_type": "execute_result"
    }
   ],
   "source": [
    "# The text file includes structured and unstructured data, including a mix of plain text, key-value pairs, \n",
    "# nested-like structures, and irregular formatting.\n",
    "\n",
    "# Path to save the file\n",
    "file_path = './documents/text_file.txt'\n",
    "\n",
    "import json\n",
    "\n",
    "# Correcting the function to handle JSON-like content safely without using eval\n",
    "def scrape_text_file_safe(file_path):\n",
    "    with open(file_path, 'r') as file:\n",
    "        lines = file.readlines()\n",
    "\n",
    "    # Extracted data structure\n",
    "    extracted_data = {\n",
    "        \"Basic Information\": {},\n",
    "        \"Projects\": [],\n",
    "        \"Metadata\": {},\n",
    "        \"Raw Data\": None,\n",
    "        \"Irregular Data\": [],\n",
    "        \"Mixed Content\": {\"JSON-like\": {}, \"Free Text\": []},\n",
    "    }\n",
    "\n",
    "    # Temporary variables for processing\n",
    "    current_section = None\n",
    "    json_like_started = False\n",
    "    json_like_buffer = []\n",
    "\n",
    "    for line in lines:\n",
    "        line = line.strip()\n",
    "        \n",
    "        if line.startswith(\"## Section\"):\n",
    "            # Identify sections by headers\n",
    "            if \"Basic Information\" in line:\n",
    "                current_section = \"Basic Information\"\n",
    "            elif \"Projects\" in line:\n",
    "                current_section = \"Projects\"\n",
    "            elif \"Raw Data\" in line:\n",
    "                current_section = \"Raw Data\"\n",
    "            elif \"Irregular Data\" in line:\n",
    "                current_section = \"Irregular Data\"\n",
    "            elif \"Mixed Content\" in line:\n",
    "                current_section = \"Mixed Content\"\n",
    "            else:\n",
    "                current_section = None\n",
    "\n",
    "        elif current_section == \"Basic Information\" and \": \" in line:\n",
    "            # Parse key-value pairs for Basic Information\n",
    "            key, value = line.split(\": \", 1)\n",
    "            extracted_data[\"Basic Information\"][key.strip()] = value.strip()\n",
    "\n",
    "        elif current_section == \"Projects\" and line.startswith(\"- Project\"):\n",
    "            # Start a new project\n",
    "            extracted_data[\"Projects\"].append({})\n",
    "        \n",
    "        elif current_section == \"Projects\" and \": \" in line:\n",
    "            # Parse project details\n",
    "            key, value = line.split(\": \", 1)\n",
    "            extracted_data[\"Projects\"][-1][key.strip()] = value.strip()\n",
    "\n",
    "        elif current_section == \"Raw Data\":\n",
    "            # Extract Raw Data content\n",
    "            if line.startswith(\"@Metadata\"):\n",
    "                continue\n",
    "            elif line.startswith(\"{\") and \"}\" in line:\n",
    "                key, value = line[1:-1].split(\", \", 1)\n",
    "                k1, v1 = key.split(\": \")\n",
    "                k2, v2 = value.split(\": \")\n",
    "                extracted_data[\"Metadata\"][k1.strip()] = v1.strip()\n",
    "                extracted_data[\"Metadata\"][k2.strip()] = v2.strip()\n",
    "            else:\n",
    "                extracted_data[\"Raw Data\"] = line\n",
    "\n",
    "        elif current_section == \"Irregular Data\" and line.startswith(\"- Name\"):\n",
    "            # Parse Irregular Data rows\n",
    "            parts = [p.strip() for p in line.split(\" | \")]\n",
    "            data_entry = {}\n",
    "            for part in parts:\n",
    "                if \": \" in part:\n",
    "                    key, value = part.split(\": \", 1)\n",
    "                    data_entry[key.strip()] = value.strip()\n",
    "            extracted_data[\"Irregular Data\"].append(data_entry)\n",
    "\n",
    "        elif current_section == \"Mixed Content\":\n",
    "            # Handle JSON-like and Free Text\n",
    "            if line.startswith(\"{\") or json_like_started:\n",
    "                # Gather JSON-like content\n",
    "                json_like_started = True\n",
    "                json_like_buffer.append(line)\n",
    "                if line.endswith(\"}\"):\n",
    "                    # Attempt to parse the gathered JSON-like structure\n",
    "                    try:\n",
    "                        extracted_data[\"Mixed Content\"][\"JSON-like\"] = json.loads(\n",
    "                            \"\\n\".join(json_like_buffer).replace(\"'\", '\"')\n",
    "                        )\n",
    "                    except json.JSONDecodeError:\n",
    "                        extracted_data[\"Mixed Content\"][\"JSON-like\"] = {\"error\": \"Invalid JSON-like structure\"}\n",
    "                    json_like_started = False\n",
    "                    json_like_buffer = []\n",
    "            else:\n",
    "                # Collect free text content\n",
    "                extracted_data[\"Mixed Content\"][\"Free Text\"].append(line)\n",
    "\n",
    "    return extracted_data\n",
    "\n",
    "# Scraping the file safely\n",
    "scraped_data_safe = scrape_text_file_safe(file_path)\n",
    "scraped_data_safe\n",
    "\n"
   ]
  },
  {
   "cell_type": "code",
   "execution_count": 3,
   "metadata": {},
   "outputs": [
    {
     "data": {
      "text/plain": [
       "['\\n',\n",
       " '# Sample Data\\n',\n",
       " '\\n',\n",
       " '## Section 1: Basic Information\\n',\n",
       " 'Name: John Doe\\n',\n",
       " 'Age: 35\\n',\n",
       " 'Occupation: Software Developer\\n',\n",
       " 'Skills: Python, JavaScript, SQL\\n',\n",
       " '\\n',\n",
       " '## Section 2: Projects\\n',\n",
       " '- Project 1: \"E-commerce platform\"\\n',\n",
       " '  Role: Lead Developer\\n',\n",
       " '  Duration: 1 year\\n',\n",
       " '  Description: \"Developed a scalable e-commerce platform using Python and Django.\"\\n',\n",
       " '- Project 2: \"Real-time Chat Application\"\\n',\n",
       " '  Role: Full Stack Developer\\n',\n",
       " '  Duration: 8 months\\n',\n",
       " '  Description: \"Built a chat application using Node.js and React.\"\\n',\n",
       " '\\n',\n",
       " '## Section 3: Raw Data\\n',\n",
       " '@Metadata\\n',\n",
       " '  {ID: 12345, Type: Confidential}\\n',\n",
       " '@Data\\n',\n",
       " '  Lorem ipsum dolor sit amet, consectetur adipiscing elit. Proin mollis, libero at euismod auctor, sapien lorem aliquam mi, nec consequat lorem magna sit amet nisi.\\n',\n",
       " '\\n',\n",
       " '## Section 4: Irregular Data\\n',\n",
       " '- Name: Alice Johnson  |  Age: 29 | Occupation: Data Scientist\\n',\n",
       " '- Name: Bob Smith | Age: 42  |  Occupation: Systems Analyst\\n',\n",
       " '\\n',\n",
       " '## Section 5: Mixed Content\\n',\n",
       " 'JSON-like:\\n',\n",
       " '{\\n',\n",
       " '  \"user\": \"john_doe\",\\n',\n",
       " '  \"actions\": [\\n',\n",
       " '    {\"type\": \"login\", \"timestamp\": \"2024-11-15T10:15:30Z\"},\\n',\n",
       " '    {\"type\": \"upload\", \"timestamp\": \"2024-11-15T11:00:00Z\"}\\n',\n",
       " '  ]\\n',\n",
       " '}\\n',\n",
       " '\\n',\n",
       " 'Free text: This is an example of a mixed-content section, where the text is interspersed with pseudo-structured data.\\n',\n",
       " '\\n',\n",
       " '--- End of File ---\\n']"
      ]
     },
     "execution_count": 3,
     "metadata": {},
     "output_type": "execute_result"
    }
   ],
   "source": [
    "# let us first read the text file \n",
    "with open(file_path, 'r') as file:\n",
    "    lines = file.readlines()\n",
    "\n",
    "lines"
   ]
  },
  {
   "cell_type": "code",
   "execution_count": 10,
   "metadata": {},
   "outputs": [
    {
     "data": {
      "text/plain": [
       "['Basic Information',\n",
       " 'Projects',\n",
       " 'Raw Data',\n",
       " 'Irregular Data',\n",
       " 'Mixed Content']"
      ]
     },
     "execution_count": 10,
     "metadata": {},
     "output_type": "execute_result"
    }
   ],
   "source": [
    "# I see the sections start with ##\n",
    "import re \n",
    "\n",
    "sections = [re.sub(r'## Section [0-9]: ', '', section.strip()) for section in lines if re.search(r'^##', section)]\n",
    "sections "
   ]
  },
  {
   "cell_type": "code",
   "execution_count": null,
   "metadata": {},
   "outputs": [],
   "source": [
    "\n",
    "\n",
    "    \n",
    "    \n",
    "        "
   ]
  }
 ],
 "metadata": {
  "kernelspec": {
   "display_name": "Python 3",
   "language": "python",
   "name": "python3"
  },
  "language_info": {
   "codemirror_mode": {
    "name": "ipython",
    "version": 3
   },
   "file_extension": ".py",
   "mimetype": "text/x-python",
   "name": "python",
   "nbconvert_exporter": "python",
   "pygments_lexer": "ipython3",
   "version": "3.13.0"
  }
 },
 "nbformat": 4,
 "nbformat_minor": 2
}
